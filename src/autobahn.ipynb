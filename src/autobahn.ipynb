{
 "cells": [
  {
   "cell_type": "markdown",
   "metadata": {},
   "source": [
    "# Autobahn"
   ]
  },
  {
   "cell_type": "markdown",
   "metadata": {},
   "source": [
    "### Install dependencies"
   ]
  },
  {
   "cell_type": "code",
   "execution_count": null,
   "metadata": {},
   "outputs": [],
   "source": [
    "# Pycaret, shap\n",
    "!pip install pycaret\n",
    "!pip install shap\n",
    "\n",
    "# Package for Facebook Claude LLM\n",
    "!pip install -U -q transformers\n",
    "!pip install --upgrade transformers\n",
    "\n",
    "# Data Quantization\n",
    "!pip install -U -q accelerate bitsandbytes\n",
    "!pip install -U -q autoawq\n",
    "\n",
    "# Embedding\n",
    "!pip install -q llm2vec\n",
    "!pip install -q flash-attn --no-build-isolation\n",
    "\n",
    "# Torch\n",
    "!pip install \"torch==2.4.0\"\n",
    "!pip3 install torchvision"
   ]
  },
  {
   "cell_type": "markdown",
   "metadata": {},
   "source": [
    "### Modeling"
   ]
  },
  {
   "cell_type": "code",
   "execution_count": null,
   "metadata": {},
   "outputs": [],
   "source": [
    "from autobahn.display import display\n",
    "\n",
    "display()"
   ]
  },
  {
   "cell_type": "markdown",
   "metadata": {},
   "source": [
    "### Inference"
   ]
  },
  {
   "cell_type": "code",
   "execution_count": null,
   "metadata": {},
   "outputs": [],
   "source": [
    "from autobahn.display.inference import display\n",
    "\n",
    "display()"
   ]
  }
 ],
 "metadata": {
  "kernelspec": {
   "display_name": "base",
   "language": "python",
   "name": "python3"
  },
  "language_info": {
   "codemirror_mode": {
    "name": "ipython",
    "version": 3
   },
   "file_extension": ".py",
   "mimetype": "text/x-python",
   "name": "python",
   "nbconvert_exporter": "python",
   "pygments_lexer": "ipython3",
   "version": "3.11.6"
  }
 },
 "nbformat": 4,
 "nbformat_minor": 2
}
