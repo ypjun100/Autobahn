{
 "cells": [
  {
   "cell_type": "markdown",
   "metadata": {},
   "source": [
    "# Autobahn"
   ]
  },
  {
   "cell_type": "code",
   "execution_count": 1,
   "metadata": {},
   "outputs": [],
   "source": [
    "import numpy as np\n",
    "\n",
    "class MissingValueProcessor:\n",
    "    # Remove rows of missing value\n",
    "    def remove(dataframe, target_columns):\n",
    "        _df = dataframe.copy()\n",
    "        for target_column in target_columns:\n",
    "            _df.dropna(subset=[target_column], inplace=True)\n",
    "        return _df\n",
    "    \n",
    "    # Fill values\n",
    "    def fill(dataframe, target_columns):\n",
    "        _df = dataframe.copy()\n",
    "        for target_column in target_columns:\n",
    "            subset_without_nan = _df.dropna(subset=[target_column])\n",
    "            _df[target_column].fillna(np.random.choice(subset_without_nan[target_column], size=1)[0], inplace=True)\n",
    "        return _df"
   ]
  },
  {
   "cell_type": "code",
   "execution_count": 2,
   "metadata": {},
   "outputs": [],
   "source": [
    "import pandas as pd\n",
    "\n",
    "class DataPreprocessor:\n",
    "    def __encode_two_classes_dataframe(self, dataframe):\n",
    "        return\n",
    "    \n",
    "    def __encode_multi_class_dataframe(self, dataframe, target_columns):\n",
    "        return\n",
    "\n",
    "    def fit(self, dataframe):\n",
    "        self.__encode_two_classes(dataframe)\n",
    "        return"
   ]
  },
  {
   "cell_type": "code",
   "execution_count": 7,
   "metadata": {
    "metadata": {}
   },
   "outputs": [],
   "source": [
    "import io\n",
    "import codecs\n",
    "import functools\n",
    "import pandas as pd\n",
    "import ipywidgets as widgets\n",
    "\n",
    "class Tabs:\n",
    "    NUMBER_OF_TABS = 3\n",
    "    TITLES = [\"데이터셋 업로드\", \"데이터셋 확인\", \"데이터 전처리\"]\n",
    "\n",
    "    def __init__(self):\n",
    "        self.tab = widgets.Tab()\n",
    "        self.dataframe = None          # 데이터 변수\n",
    "        self.dependent_col = \"\"        # 종속변수 명\n",
    "        self.is_echo = False           # Dropdown 에코 방지\n",
    "        self.is_auto_preprocessing = {}    # 각 변수별 auto transformation 여부 {변수명:True/False...}  (기본값 : True)\n",
    "\n",
    "    def get_title(self, index):\n",
    "        return Tabs.TITLES[index]\n",
    "    \n",
    "    def get_view(self, index):\n",
    "        if index == 0:\n",
    "            return tabs.get_upload_view()\n",
    "        elif index == 1:\n",
    "            return tabs.get_dataset_verfication_view()\n",
    "        elif index == 2:\n",
    "            return tabs.get_data_preprocessing_view()\n",
    "\n",
    "\n",
    "    ##################\n",
    "    # 0 - Upload File\n",
    "    ##################\n",
    "    def upload_file(self, change):\n",
    "        content = change['new'][0]['content']\n",
    "        self.dataframe = pd.read_csv(io.StringIO(codecs.decode(content)))\n",
    "        for col in self.dataframe.columns:\n",
    "            self.is_auto_preprocessing[col] = True\n",
    "        self.update_dataset_verification_view()\n",
    "        self.update_data_preprocessing_view()\n",
    "        self.tab.selected_index = 1\n",
    "        \n",
    "    def get_upload_view(self): # 0\n",
    "        uploader = widgets.FileUpload(accept='*.csv', multiple=False)\n",
    "        uploader.observe(self.upload_file, names=\"value\")\n",
    "        return uploader\n",
    "    \n",
    "\n",
    "    ##################\n",
    "    # 1 - Data Verification\n",
    "    ##################\n",
    "    def get_dataset_verfication_view(self):\n",
    "        self.data_verfication_vbox = widgets.VBox([])\n",
    "        return self.data_verfication_vbox\n",
    "    \n",
    "    def get_dataset_statistics(self):\n",
    "        statistics = pd.DataFrame({'Feature Name': self.dataframe.columns.to_list(),\n",
    "                           'Type': ['Categorical' if self.dataframe[col].dtypes == 'object' else 'Numeric' for col in self.dataframe.columns],\n",
    "                           'Unique': [str(len(self.dataframe[col].unique())) if self.dataframe[col].dtypes == 'object' else '-' for col in self.dataframe.columns],\n",
    "                           'Missing values': self.dataframe.isnull().sum().to_list(),\n",
    "                           'Mean': [str(round(self.dataframe[col].mean(), 5)) if self.dataframe[col].dtypes != 'object' else '-' for col in self.dataframe.columns]})\n",
    "        return statistics.style.hide()._repr_html_()\n",
    "    \n",
    "    def update_dataset_verification_view(self):\n",
    "        children = []\n",
    "        children.append(widgets.HTML(value=\"<h4>총 데이터 수 : \" + str(len(self.dataframe)) + \"개</h4>\"))\n",
    "        children.append(widgets.HTML(value=\"<h4>입력 데이터셋</h4>\"))\n",
    "        children.append(widgets.HTML(value=self.dataframe.head()._repr_html_()))\n",
    "        children.append(widgets.HTML(value=\"<h4>입력 데이터셋 통계치</h4>\"))\n",
    "        children.append(widgets.HTML(value=self.get_dataset_statistics()))\n",
    "        self.data_verfication_vbox.children = children\n",
    "    \n",
    "    \n",
    "    ##################\n",
    "    # 2 - Pre - Data Preprocessing\n",
    "    ##################\n",
    "    def get_data_preprocessing_view(self):\n",
    "        self.data_preprocessing_vbox = widgets.VBox([])\n",
    "        self.data_preprocessing_loading = widgets.IntProgress(value=0, min=0, max=10, description=\"Waiting\", bar_style=\"info\")\n",
    "        return self.data_preprocessing_vbox\n",
    "    \n",
    "    def on_dependent_change(self, change):\n",
    "        self.dependent_col = change['new']\n",
    "\n",
    "    def on_type_change(self, col, change):\n",
    "        if self.is_echo:\n",
    "            self.is_echo = False\n",
    "            return\n",
    "        \n",
    "        try:\n",
    "            if change['new'] == 'Categorical': # Numeric -> Categorical\n",
    "                self.dataframe[col] = self.dataframe[col].astype(object)\n",
    "            else: # Categorical -> Numeric\n",
    "                self.dataframe[col] = self.dataframe[col].astype(int)\n",
    "            self.update_dataset_verification_view()\n",
    "        except:\n",
    "            self.is_echo = True\n",
    "            change['owner'].value = change['old']\n",
    "            print('변환할 수 없는 변수입니다. -', col)\n",
    "\n",
    "    def on_col_delete(self, col, _):\n",
    "        self.dataframe.drop(col, axis = 1, inplace=True)\n",
    "        self.update_data_preprocessing_view()\n",
    "        self.update_dataset_verification_view()\n",
    "\n",
    "    def on_auto_preprocessing_change(self, col, change):\n",
    "        self.is_auto_preprocessing[col] = False if change['new'] == 'None' else True\n",
    "    \n",
    "    def on_preprocessing_apply(self, _):\n",
    "        self.data_preprocessing_loading.description = \"Processing...\"\n",
    "\n",
    "        # 어떤 컬럼이 자동 전처리에 해당하는지 확인\n",
    "        auto_transform_cols, non_auto_transform_cols = [], []\n",
    "        for key in self.is_auto_preprocessing.keys():\n",
    "            if self.is_auto_preprocessing[key]:\n",
    "                auto_transform_cols.append(key)\n",
    "            else:\n",
    "                non_auto_transform_cols.append(key)\n",
    "\n",
    "        # auto transform이 false라면, 결측치 제거\n",
    "        # auto transform이 true라면, 결측치 랜덤 값 및 범주로 채워넣기\n",
    "        self.dataframe = MissingValueProcessor.remove(self.dataframe, non_auto_transform_cols) # 결측치 제거\n",
    "        self.data_preprocessing_loading.value += 2\n",
    "        self.dataframe = MissingValueProcessor.fill(self.dataframe, auto_transform_cols) # 랜덤 값/범주 채워넣기\n",
    "        self.data_preprocessing_loading.value += 2\n",
    "        \n",
    "\n",
    "\n",
    "\n",
    "\n",
    "    def update_data_preprocessing_view(self):\n",
    "        children = []\n",
    "        dropdown_dependent = widgets.Dropdown(options=self.dataframe.columns.to_list(), description=\"종속 변수 설정\")\n",
    "        dropdown_dependent.observe(self.on_dependent_change, names='value')\n",
    "        children.append(dropdown_dependent)\n",
    "        children.append(widgets.HTML(value=\"<hr/>\"))\n",
    "        children.append(widgets.HBox([widgets.Dropdown(options=['Type'], description=\"Feature name\", disabled=True),\n",
    "                                      widgets.Dropdown(options=['Auto Preprocessing'], disabled=True)]))\n",
    "        for col in self.dataframe.columns:\n",
    "            dropdown_type = widgets.Dropdown(options=['Categorical', 'Numeric'], value='Categorical' if self.dataframe[col].dtypes == 'object' else 'Numeric', description=col)\n",
    "            dropdown_type.observe(functools.partial(self.on_type_change, col), names='value')\n",
    "            dropdown_transform = widgets.Dropdown(options=['Auto', 'None'], value='Auto' if self.is_auto_preprocessing[col] == True else 'None')\n",
    "            dropdown_transform.observe(functools.partial(self.on_auto_preprocessing_change, col), names='value')\n",
    "            button_col_delete = widgets.Button(description=\"Delete\")\n",
    "            button_col_delete.on_click(functools.partial(self.on_col_delete, col))\n",
    "            children.append(widgets.HBox([dropdown_type, dropdown_transform, button_col_delete]))\n",
    "        children.append(widgets.HTML(value=\"<hr/>\"))\n",
    "        apply_button = widgets.Button(description=\"Apply\")\n",
    "        apply_button.on_click(self.on_preprocessing_apply)\n",
    "        children.append(widgets.HBox([apply_button, self.data_preprocessing_loading]))\n",
    "        self.data_preprocessing_vbox.children = children\n",
    "\n",
    "tabs = Tabs()"
   ]
  },
  {
   "cell_type": "code",
   "execution_count": 8,
   "metadata": {
    "metadata": {}
   },
   "outputs": [
    {
     "data": {
      "application/vnd.jupyter.widget-view+json": {
       "model_id": "ecfb2fa84f15455a828416bf6bd205f0",
       "version_major": 2,
       "version_minor": 0
      },
      "text/plain": [
       "VBox(children=(HTML(value='<h2>Autobahn: AUTOmation Brings All Human beiNgs.</h2>'), Tab(children=(FileUpload(…"
      ]
     },
     "execution_count": 8,
     "metadata": {},
     "output_type": "execute_result"
    },
    {
     "ename": "KeyError",
     "evalue": "[\"CASE_NO_PATIENT'S\"]",
     "output_type": "error",
     "traceback": [
      "\u001b[0;31m---------------------------------------------------------------------------\u001b[0m",
      "\u001b[0;31mKeyError\u001b[0m                                  Traceback (most recent call last)",
      "\u001b[0;32m/opt/conda/lib/python3.11/site-packages/ipywidgets/widgets/widget.py\u001b[0m in \u001b[0;36m?\u001b[0;34m(self, *args, **kwargs)\u001b[0m\n\u001b[1;32m    193\u001b[0m                 \u001b[0mip\u001b[0m \u001b[0;34m=\u001b[0m \u001b[0mget_ipython\u001b[0m\u001b[0;34m(\u001b[0m\u001b[0;34m)\u001b[0m\u001b[0;34m\u001b[0m\u001b[0;34m\u001b[0m\u001b[0m\n\u001b[1;32m    194\u001b[0m                 \u001b[0;32mif\u001b[0m \u001b[0mip\u001b[0m \u001b[0;32mis\u001b[0m \u001b[0;32mNone\u001b[0m\u001b[0;34m:\u001b[0m\u001b[0;34m\u001b[0m\u001b[0;34m\u001b[0m\u001b[0m\n\u001b[1;32m    195\u001b[0m                     \u001b[0mself\u001b[0m\u001b[0;34m.\u001b[0m\u001b[0mlog\u001b[0m\u001b[0;34m.\u001b[0m\u001b[0mwarning\u001b[0m\u001b[0;34m(\u001b[0m\u001b[0;34m\"Exception in callback %s: %s\"\u001b[0m\u001b[0;34m,\u001b[0m \u001b[0mcallback\u001b[0m\u001b[0;34m,\u001b[0m \u001b[0me\u001b[0m\u001b[0;34m,\u001b[0m \u001b[0mexc_info\u001b[0m\u001b[0;34m=\u001b[0m\u001b[0;32mTrue\u001b[0m\u001b[0;34m)\u001b[0m\u001b[0;34m\u001b[0m\u001b[0;34m\u001b[0m\u001b[0m\n\u001b[1;32m    196\u001b[0m                 \u001b[0;32melse\u001b[0m\u001b[0;34m:\u001b[0m\u001b[0;34m\u001b[0m\u001b[0;34m\u001b[0m\u001b[0m\n\u001b[0;32m--> 197\u001b[0;31m                     \u001b[0mip\u001b[0m\u001b[0;34m.\u001b[0m\u001b[0mshowtraceback\u001b[0m\u001b[0;34m(\u001b[0m\u001b[0;34m)\u001b[0m\u001b[0;34m\u001b[0m\u001b[0;34m\u001b[0m\u001b[0m\n\u001b[0m\u001b[1;32m    198\u001b[0m             \u001b[0;32melse\u001b[0m\u001b[0;34m:\u001b[0m\u001b[0;34m\u001b[0m\u001b[0;34m\u001b[0m\u001b[0m\n\u001b[1;32m    199\u001b[0m                 \u001b[0mvalue\u001b[0m \u001b[0;34m=\u001b[0m \u001b[0mlocal_value\u001b[0m \u001b[0;32mif\u001b[0m \u001b[0mlocal_value\u001b[0m \u001b[0;32mis\u001b[0m \u001b[0;32mnot\u001b[0m \u001b[0;32mNone\u001b[0m \u001b[0;32melse\u001b[0m \u001b[0mvalue\u001b[0m\u001b[0;34m\u001b[0m\u001b[0;34m\u001b[0m\u001b[0m\n\u001b[1;32m    200\u001b[0m         \u001b[0;32mreturn\u001b[0m \u001b[0mvalue\u001b[0m\u001b[0;34m\u001b[0m\u001b[0;34m\u001b[0m\u001b[0m\n",
      "\u001b[0;32m/tmp/ipykernel_15194/3232202860.py\u001b[0m in \u001b[0;36m?\u001b[0;34m(self, _)\u001b[0m\n\u001b[1;32m    119\u001b[0m         \u001b[0;31m# auto transform이 false라면, 결측치 제거\u001b[0m\u001b[0;34m\u001b[0m\u001b[0;34m\u001b[0m\u001b[0m\n\u001b[1;32m    120\u001b[0m         \u001b[0;31m# auto transform이 true라면, 결측치 랜덤 값 및 범주로 채워넣기\u001b[0m\u001b[0;34m\u001b[0m\u001b[0;34m\u001b[0m\u001b[0m\n\u001b[1;32m    121\u001b[0m         \u001b[0mself\u001b[0m\u001b[0;34m.\u001b[0m\u001b[0mdataframe\u001b[0m \u001b[0;34m=\u001b[0m \u001b[0mMissingValueProcessor\u001b[0m\u001b[0;34m.\u001b[0m\u001b[0mremove\u001b[0m\u001b[0;34m(\u001b[0m\u001b[0mself\u001b[0m\u001b[0;34m.\u001b[0m\u001b[0mdataframe\u001b[0m\u001b[0;34m,\u001b[0m \u001b[0mnon_auto_transform_cols\u001b[0m\u001b[0;34m)\u001b[0m \u001b[0;31m# 결측치 제거\u001b[0m\u001b[0;34m\u001b[0m\u001b[0;34m\u001b[0m\u001b[0m\n\u001b[1;32m    122\u001b[0m         \u001b[0mself\u001b[0m\u001b[0;34m.\u001b[0m\u001b[0mdata_preprocessing_loading\u001b[0m\u001b[0;34m.\u001b[0m\u001b[0mvalue\u001b[0m \u001b[0;34m+=\u001b[0m \u001b[0;36m2\u001b[0m\u001b[0;34m\u001b[0m\u001b[0;34m\u001b[0m\u001b[0m\n\u001b[0;32m--> 123\u001b[0;31m         \u001b[0mself\u001b[0m\u001b[0;34m.\u001b[0m\u001b[0mdataframe\u001b[0m \u001b[0;34m=\u001b[0m \u001b[0mMissingValueProcessor\u001b[0m\u001b[0;34m.\u001b[0m\u001b[0mfill\u001b[0m\u001b[0;34m(\u001b[0m\u001b[0mself\u001b[0m\u001b[0;34m.\u001b[0m\u001b[0mdataframe\u001b[0m\u001b[0;34m,\u001b[0m \u001b[0mauto_transform_cols\u001b[0m\u001b[0;34m)\u001b[0m \u001b[0;31m# 랜덤 값/범주 채워넣기\u001b[0m\u001b[0;34m\u001b[0m\u001b[0;34m\u001b[0m\u001b[0m\n\u001b[0m\u001b[1;32m    124\u001b[0m         \u001b[0mself\u001b[0m\u001b[0;34m.\u001b[0m\u001b[0mdata_preprocessing_loading\u001b[0m\u001b[0;34m.\u001b[0m\u001b[0mvalue\u001b[0m \u001b[0;34m+=\u001b[0m \u001b[0;36m2\u001b[0m\u001b[0;34m\u001b[0m\u001b[0;34m\u001b[0m\u001b[0m\n",
      "\u001b[0;32m/tmp/ipykernel_15194/2073658900.py\u001b[0m in \u001b[0;36m?\u001b[0;34m(dataframe, target_columns)\u001b[0m\n\u001b[1;32m     12\u001b[0m     \u001b[0;32mdef\u001b[0m \u001b[0mfill\u001b[0m\u001b[0;34m(\u001b[0m\u001b[0mdataframe\u001b[0m\u001b[0;34m,\u001b[0m \u001b[0mtarget_columns\u001b[0m\u001b[0;34m)\u001b[0m\u001b[0;34m:\u001b[0m\u001b[0;34m\u001b[0m\u001b[0;34m\u001b[0m\u001b[0m\n\u001b[1;32m     13\u001b[0m         \u001b[0m_df\u001b[0m \u001b[0;34m=\u001b[0m \u001b[0mdataframe\u001b[0m\u001b[0;34m.\u001b[0m\u001b[0mcopy\u001b[0m\u001b[0;34m(\u001b[0m\u001b[0;34m)\u001b[0m\u001b[0;34m\u001b[0m\u001b[0;34m\u001b[0m\u001b[0m\n\u001b[1;32m     14\u001b[0m         \u001b[0;32mfor\u001b[0m \u001b[0mtarget_column\u001b[0m \u001b[0;32min\u001b[0m \u001b[0mtarget_columns\u001b[0m\u001b[0;34m:\u001b[0m\u001b[0;34m\u001b[0m\u001b[0;34m\u001b[0m\u001b[0m\n\u001b[0;32m---> 15\u001b[0;31m             \u001b[0msubset_without_nan\u001b[0m \u001b[0;34m=\u001b[0m \u001b[0m_df\u001b[0m\u001b[0;34m.\u001b[0m\u001b[0mdropna\u001b[0m\u001b[0;34m(\u001b[0m\u001b[0msubset\u001b[0m\u001b[0;34m=\u001b[0m\u001b[0;34m[\u001b[0m\u001b[0mtarget_column\u001b[0m\u001b[0;34m]\u001b[0m\u001b[0;34m)\u001b[0m\u001b[0;34m\u001b[0m\u001b[0;34m\u001b[0m\u001b[0m\n\u001b[0m\u001b[1;32m     16\u001b[0m             \u001b[0m_df\u001b[0m\u001b[0;34m[\u001b[0m\u001b[0mtarget_column\u001b[0m\u001b[0;34m]\u001b[0m\u001b[0;34m.\u001b[0m\u001b[0mfillna\u001b[0m\u001b[0;34m(\u001b[0m\u001b[0mnp\u001b[0m\u001b[0;34m.\u001b[0m\u001b[0mrandom\u001b[0m\u001b[0;34m.\u001b[0m\u001b[0mchoice\u001b[0m\u001b[0;34m(\u001b[0m\u001b[0msubset_without_nan\u001b[0m\u001b[0;34m[\u001b[0m\u001b[0mtarget_column\u001b[0m\u001b[0;34m]\u001b[0m\u001b[0;34m,\u001b[0m \u001b[0msize\u001b[0m\u001b[0;34m=\u001b[0m\u001b[0;36m1\u001b[0m\u001b[0;34m)\u001b[0m\u001b[0;34m[\u001b[0m\u001b[0;36m0\u001b[0m\u001b[0;34m]\u001b[0m\u001b[0;34m,\u001b[0m \u001b[0minplace\u001b[0m\u001b[0;34m=\u001b[0m\u001b[0;32mTrue\u001b[0m\u001b[0;34m)\u001b[0m\u001b[0;34m\u001b[0m\u001b[0;34m\u001b[0m\u001b[0m\n\u001b[1;32m     17\u001b[0m         \u001b[0;32mreturn\u001b[0m \u001b[0m_df\u001b[0m\u001b[0;34m\u001b[0m\u001b[0;34m\u001b[0m\u001b[0m\n",
      "\u001b[0;32m/opt/conda/lib/python3.11/site-packages/pandas/core/frame.py\u001b[0m in \u001b[0;36m?\u001b[0;34m(self, axis, how, thresh, subset, inplace, ignore_index)\u001b[0m\n\u001b[1;32m   6417\u001b[0m             \u001b[0max\u001b[0m \u001b[0;34m=\u001b[0m \u001b[0mself\u001b[0m\u001b[0;34m.\u001b[0m\u001b[0m_get_axis\u001b[0m\u001b[0;34m(\u001b[0m\u001b[0magg_axis\u001b[0m\u001b[0;34m)\u001b[0m\u001b[0;34m\u001b[0m\u001b[0;34m\u001b[0m\u001b[0m\n\u001b[1;32m   6418\u001b[0m             \u001b[0mindices\u001b[0m \u001b[0;34m=\u001b[0m \u001b[0max\u001b[0m\u001b[0;34m.\u001b[0m\u001b[0mget_indexer_for\u001b[0m\u001b[0;34m(\u001b[0m\u001b[0msubset\u001b[0m\u001b[0;34m)\u001b[0m\u001b[0;34m\u001b[0m\u001b[0;34m\u001b[0m\u001b[0m\n\u001b[1;32m   6419\u001b[0m             \u001b[0mcheck\u001b[0m \u001b[0;34m=\u001b[0m \u001b[0mindices\u001b[0m \u001b[0;34m==\u001b[0m \u001b[0;34m-\u001b[0m\u001b[0;36m1\u001b[0m\u001b[0;34m\u001b[0m\u001b[0;34m\u001b[0m\u001b[0m\n\u001b[1;32m   6420\u001b[0m             \u001b[0;32mif\u001b[0m \u001b[0mcheck\u001b[0m\u001b[0;34m.\u001b[0m\u001b[0many\u001b[0m\u001b[0;34m(\u001b[0m\u001b[0;34m)\u001b[0m\u001b[0;34m:\u001b[0m\u001b[0;34m\u001b[0m\u001b[0;34m\u001b[0m\u001b[0m\n\u001b[0;32m-> 6421\u001b[0;31m                 \u001b[0;32mraise\u001b[0m \u001b[0mKeyError\u001b[0m\u001b[0;34m(\u001b[0m\u001b[0mnp\u001b[0m\u001b[0;34m.\u001b[0m\u001b[0marray\u001b[0m\u001b[0;34m(\u001b[0m\u001b[0msubset\u001b[0m\u001b[0;34m)\u001b[0m\u001b[0;34m[\u001b[0m\u001b[0mcheck\u001b[0m\u001b[0;34m]\u001b[0m\u001b[0;34m.\u001b[0m\u001b[0mtolist\u001b[0m\u001b[0;34m(\u001b[0m\u001b[0;34m)\u001b[0m\u001b[0;34m)\u001b[0m\u001b[0;34m\u001b[0m\u001b[0;34m\u001b[0m\u001b[0m\n\u001b[0m\u001b[1;32m   6422\u001b[0m             \u001b[0magg_obj\u001b[0m \u001b[0;34m=\u001b[0m \u001b[0mself\u001b[0m\u001b[0;34m.\u001b[0m\u001b[0mtake\u001b[0m\u001b[0;34m(\u001b[0m\u001b[0mindices\u001b[0m\u001b[0;34m,\u001b[0m \u001b[0maxis\u001b[0m\u001b[0;34m=\u001b[0m\u001b[0magg_axis\u001b[0m\u001b[0;34m)\u001b[0m\u001b[0;34m\u001b[0m\u001b[0;34m\u001b[0m\u001b[0m\n\u001b[1;32m   6423\u001b[0m \u001b[0;34m\u001b[0m\u001b[0m\n\u001b[1;32m   6424\u001b[0m         \u001b[0;32mif\u001b[0m \u001b[0mthresh\u001b[0m \u001b[0;32mis\u001b[0m \u001b[0;32mnot\u001b[0m \u001b[0mlib\u001b[0m\u001b[0;34m.\u001b[0m\u001b[0mno_default\u001b[0m\u001b[0;34m:\u001b[0m\u001b[0;34m\u001b[0m\u001b[0;34m\u001b[0m\u001b[0m\n",
      "\u001b[0;31mKeyError\u001b[0m: [\"CASE_NO_PATIENT'S\"]"
     ]
    }
   ],
   "source": [
    "tabs.tab.children = [tabs.get_view(i) for i in range(Tabs.NUMBER_OF_TABS)]\n",
    "tabs.tab.titles = tabs.TITLES\n",
    "\n",
    "widgets.VBox([widgets.HTML(value=\"<h2>Autobahn: AUTOmation Brings All Human beiNgs.</h2>\"), \n",
    "              tabs.tab])"
   ]
  },
  {
   "cell_type": "code",
   "execution_count": 5,
   "metadata": {},
   "outputs": [],
   "source": [
    "import pandas as pd\n",
    "\n",
    "df = pd.read_csv(\"/home/jovyan/work/_dataset/data_csv.csv\")"
   ]
  },
  {
   "cell_type": "code",
   "execution_count": 66,
   "metadata": {},
   "outputs": [
    {
     "data": {
      "text/plain": [
       "0        3.0\n",
       "1        4.0\n",
       "2        4.0\n",
       "3       10.0\n",
       "4        9.0\n",
       "        ... \n",
       "1980     6.0\n",
       "1981     0.0\n",
       "1982     6.0\n",
       "1983     0.0\n",
       "1984     6.0\n",
       "Name: Qchat_10_Score, Length: 1985, dtype: float64"
      ]
     },
     "execution_count": 66,
     "metadata": {},
     "output_type": "execute_result"
    }
   ],
   "source": [
    "'''\n",
    "            subset_without_nan = _df.dropna(subset=[target_column])\n",
    "            subset_with_nan = _df[_df[target_column].isnull()]\n",
    "\n",
    "            random_values = np.random.choice(subset_without_nan[target_column], size=len(subset_with_nan))\n",
    "            subset_with_nan[target_column] = random_values\n",
    "            _df = pd.concat([subset_without_nan, subset_with_nan])\n",
    "'''\n",
    "\n",
    "subset_without_nan = df.dropna(subset=['Qchat_10_Score'])\n",
    "df['Qchat_10_Score'] = df['Qchat_10_Score'].fillna(np.random.choice(subset_without_nan['Qchat_10_Score'], size=1)[0])\n"
   ]
  }
 ],
 "metadata": {
  "kernelspec": {
   "display_name": "base",
   "language": "python",
   "name": "python3"
  },
  "language_info": {
   "codemirror_mode": {
    "name": "ipython",
    "version": 3
   },
   "file_extension": ".py",
   "mimetype": "text/x-python",
   "name": "python",
   "nbconvert_exporter": "python",
   "pygments_lexer": "ipython3",
   "version": "3.11.6"
  }
 },
 "nbformat": 4,
 "nbformat_minor": 2
}
